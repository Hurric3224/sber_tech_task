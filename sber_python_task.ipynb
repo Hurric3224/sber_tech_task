{
 "cells": [
  {
   "cell_type": "code",
   "execution_count": 1,
   "id": "970460fe",
   "metadata": {},
   "outputs": [],
   "source": [
    "import pandas as pd\n",
    "from datetime import datetime"
   ]
  },
  {
   "cell_type": "code",
   "execution_count": 2,
   "id": "47656a97",
   "metadata": {},
   "outputs": [],
   "source": [
    "info_df = pd.read_csv(r'C:\\Users\\Yuri\\Desktop\\tech_tasks\\sber\\data_for_test.txt')"
   ]
  },
  {
   "cell_type": "code",
   "execution_count": 3,
   "id": "c5f265b1",
   "metadata": {
    "scrolled": true
   },
   "outputs": [
    {
     "data": {
      "text/html": [
       "<div>\n",
       "<style scoped>\n",
       "    .dataframe tbody tr th:only-of-type {\n",
       "        vertical-align: middle;\n",
       "    }\n",
       "\n",
       "    .dataframe tbody tr th {\n",
       "        vertical-align: top;\n",
       "    }\n",
       "\n",
       "    .dataframe thead th {\n",
       "        text-align: right;\n",
       "    }\n",
       "</style>\n",
       "<table border=\"1\" class=\"dataframe\">\n",
       "  <thead>\n",
       "    <tr style=\"text-align: right;\">\n",
       "      <th></th>\n",
       "      <th>eventLabel</th>\n",
       "      <th>date</th>\n",
       "      <th>source</th>\n",
       "      <th>medium</th>\n",
       "      <th>campaign</th>\n",
       "      <th>pagePath</th>\n",
       "    </tr>\n",
       "  </thead>\n",
       "  <tbody>\n",
       "    <tr>\n",
       "      <th>0</th>\n",
       "      <td>debit_card_trackad_form_ST4_37224908</td>\n",
       "      <td>20210516</td>\n",
       "      <td>yandex.ru</td>\n",
       "      <td>referral</td>\n",
       "      <td>(not set)</td>\n",
       "      <td>/ru/person/bank_cards/debit/sberkarta_young</td>\n",
       "    </tr>\n",
       "    <tr>\n",
       "      <th>1</th>\n",
       "      <td>debit_card_trackad_form_ST4_29477110</td>\n",
       "      <td>20210516</td>\n",
       "      <td>google</td>\n",
       "      <td>organic</td>\n",
       "      <td>(not set)</td>\n",
       "      <td>/ru/person/bank_cards/debit/sberkarta_young</td>\n",
       "    </tr>\n",
       "    <tr>\n",
       "      <th>2</th>\n",
       "      <td>debit_card_trackad_form_ST4_44020580</td>\n",
       "      <td>20210516</td>\n",
       "      <td>Admitad</td>\n",
       "      <td>cpa</td>\n",
       "      <td>bank_cards.debit.sberkarta_god_person_20210100...</td>\n",
       "      <td>/ru/person/bank_cards/debit/sberkarta/pension-...</td>\n",
       "    </tr>\n",
       "    <tr>\n",
       "      <th>3</th>\n",
       "      <td>debit_card_trackad_form_ST4_44020596</td>\n",
       "      <td>20210516</td>\n",
       "      <td>Admitad</td>\n",
       "      <td>cpa</td>\n",
       "      <td>bank_cards.debit.sberkarta_god_person_20210100...</td>\n",
       "      <td>/ru/person/bank_cards/debit/sberkarta/pension-...</td>\n",
       "    </tr>\n",
       "    <tr>\n",
       "      <th>4</th>\n",
       "      <td>debit_card_trackad_form_ST4_44020610</td>\n",
       "      <td>20210516</td>\n",
       "      <td>Admitad</td>\n",
       "      <td>cpa</td>\n",
       "      <td>bank_cards.debit.sberkarta_god_person_20210100...</td>\n",
       "      <td>/ru/person/bank_cards/debit/sberkarta/pension-...</td>\n",
       "    </tr>\n",
       "  </tbody>\n",
       "</table>\n",
       "</div>"
      ],
      "text/plain": [
       "                             eventLabel      date     source    medium  \\\n",
       "0  debit_card_trackad_form_ST4_37224908  20210516  yandex.ru  referral   \n",
       "1  debit_card_trackad_form_ST4_29477110  20210516     google   organic   \n",
       "2  debit_card_trackad_form_ST4_44020580  20210516    Admitad       cpa   \n",
       "3  debit_card_trackad_form_ST4_44020596  20210516    Admitad       cpa   \n",
       "4  debit_card_trackad_form_ST4_44020610  20210516    Admitad       cpa   \n",
       "\n",
       "                                            campaign  \\\n",
       "0                                          (not set)   \n",
       "1                                          (not set)   \n",
       "2  bank_cards.debit.sberkarta_god_person_20210100...   \n",
       "3  bank_cards.debit.sberkarta_god_person_20210100...   \n",
       "4  bank_cards.debit.sberkarta_god_person_20210100...   \n",
       "\n",
       "                                            pagePath  \n",
       "0        /ru/person/bank_cards/debit/sberkarta_young  \n",
       "1        /ru/person/bank_cards/debit/sberkarta_young  \n",
       "2  /ru/person/bank_cards/debit/sberkarta/pension-...  \n",
       "3  /ru/person/bank_cards/debit/sberkarta/pension-...  \n",
       "4  /ru/person/bank_cards/debit/sberkarta/pension-...  "
      ]
     },
     "execution_count": 3,
     "metadata": {},
     "output_type": "execute_result"
    }
   ],
   "source": [
    "info_df.head()"
   ]
  },
  {
   "cell_type": "code",
   "execution_count": 4,
   "id": "e6e73e7b",
   "metadata": {},
   "outputs": [
    {
     "name": "stdout",
     "output_type": "stream",
     "text": [
      "<class 'pandas.core.frame.DataFrame'>\n",
      "RangeIndex: 20 entries, 0 to 19\n",
      "Data columns (total 6 columns):\n",
      " #   Column      Non-Null Count  Dtype \n",
      "---  ------      --------------  ----- \n",
      " 0   eventLabel  20 non-null     object\n",
      " 1   date        20 non-null     int64 \n",
      " 2   source      20 non-null     object\n",
      " 3   medium      20 non-null     object\n",
      " 4   campaign    20 non-null     object\n",
      " 5   pagePath    20 non-null     object\n",
      "dtypes: int64(1), object(5)\n",
      "memory usage: 1.1+ KB\n"
     ]
    }
   ],
   "source": [
    "info_df.info()"
   ]
  },
  {
   "cell_type": "markdown",
   "id": "7b480fcc",
   "metadata": {},
   "source": [
    "### Пропусков нет, структура в данных присутствует"
   ]
  },
  {
   "cell_type": "markdown",
   "id": "0664adcb",
   "metadata": {},
   "source": [
    "# 1)"
   ]
  },
  {
   "cell_type": "code",
   "execution_count": 5,
   "id": "7170fcf2",
   "metadata": {},
   "outputs": [],
   "source": [
    "# функция по отбору contractnum\n",
    "def split_number(eventLabel_data):\n",
    "    return eventLabel_data.split('_')[-1]\n",
    "\n",
    "# создание необходимого поля через функцию\n",
    "info_df['contractnum'] = info_df['eventLabel'].apply(split_number)"
   ]
  },
  {
   "cell_type": "code",
   "execution_count": 6,
   "id": "1bdafa16",
   "metadata": {},
   "outputs": [],
   "source": [
    "# приведение даты к корректному виду\n",
    "info_df['date'] = pd.to_datetime(info_df['date'], format='%Y%m%d')"
   ]
  },
  {
   "cell_type": "code",
   "execution_count": 7,
   "id": "42d69a98",
   "metadata": {},
   "outputs": [],
   "source": [
    "# возможно, в данном задании требовалось что-то другое, но я так понял,\n",
    "# что интересует дата непосредственной работы с данными и внесения изменений?.\n",
    "# В файле с исходными данными похожей информации не нашел.\n",
    "# Разве что часть из поля \"campaign\", но она там в нестандартном формате.\n",
    "current_date = datetime.now()\n",
    "info_df['insert_date'] = current_date"
   ]
  },
  {
   "cell_type": "code",
   "execution_count": 8,
   "id": "a4c4660e",
   "metadata": {},
   "outputs": [],
   "source": [
    "info_df = info_df[['contractnum', 'source', 'medium', 'campaign', 'pagePath', 'date', 'insert_date']]"
   ]
  },
  {
   "cell_type": "code",
   "execution_count": 9,
   "id": "5a9c8a71",
   "metadata": {},
   "outputs": [
    {
     "data": {
      "text/html": [
       "<div>\n",
       "<style scoped>\n",
       "    .dataframe tbody tr th:only-of-type {\n",
       "        vertical-align: middle;\n",
       "    }\n",
       "\n",
       "    .dataframe tbody tr th {\n",
       "        vertical-align: top;\n",
       "    }\n",
       "\n",
       "    .dataframe thead th {\n",
       "        text-align: right;\n",
       "    }\n",
       "</style>\n",
       "<table border=\"1\" class=\"dataframe\">\n",
       "  <thead>\n",
       "    <tr style=\"text-align: right;\">\n",
       "      <th></th>\n",
       "      <th>contractnum</th>\n",
       "      <th>source</th>\n",
       "      <th>medium</th>\n",
       "      <th>campaign</th>\n",
       "      <th>pagePath</th>\n",
       "      <th>date</th>\n",
       "      <th>insert_date</th>\n",
       "    </tr>\n",
       "  </thead>\n",
       "  <tbody>\n",
       "    <tr>\n",
       "      <th>0</th>\n",
       "      <td>37224908</td>\n",
       "      <td>yandex.ru</td>\n",
       "      <td>referral</td>\n",
       "      <td>(not set)</td>\n",
       "      <td>/ru/person/bank_cards/debit/sberkarta_young</td>\n",
       "      <td>2021-05-16</td>\n",
       "      <td>2022-10-30 11:52:10.994033</td>\n",
       "    </tr>\n",
       "    <tr>\n",
       "      <th>1</th>\n",
       "      <td>29477110</td>\n",
       "      <td>google</td>\n",
       "      <td>organic</td>\n",
       "      <td>(not set)</td>\n",
       "      <td>/ru/person/bank_cards/debit/sberkarta_young</td>\n",
       "      <td>2021-05-16</td>\n",
       "      <td>2022-10-30 11:52:10.994033</td>\n",
       "    </tr>\n",
       "    <tr>\n",
       "      <th>2</th>\n",
       "      <td>44020580</td>\n",
       "      <td>Admitad</td>\n",
       "      <td>cpa</td>\n",
       "      <td>bank_cards.debit.sberkarta_god_person_20210100...</td>\n",
       "      <td>/ru/person/bank_cards/debit/sberkarta/pension-...</td>\n",
       "      <td>2021-05-16</td>\n",
       "      <td>2022-10-30 11:52:10.994033</td>\n",
       "    </tr>\n",
       "    <tr>\n",
       "      <th>3</th>\n",
       "      <td>44020596</td>\n",
       "      <td>Admitad</td>\n",
       "      <td>cpa</td>\n",
       "      <td>bank_cards.debit.sberkarta_god_person_20210100...</td>\n",
       "      <td>/ru/person/bank_cards/debit/sberkarta/pension-...</td>\n",
       "      <td>2021-05-16</td>\n",
       "      <td>2022-10-30 11:52:10.994033</td>\n",
       "    </tr>\n",
       "    <tr>\n",
       "      <th>4</th>\n",
       "      <td>44020610</td>\n",
       "      <td>Admitad</td>\n",
       "      <td>cpa</td>\n",
       "      <td>bank_cards.debit.sberkarta_god_person_20210100...</td>\n",
       "      <td>/ru/person/bank_cards/debit/sberkarta/pension-...</td>\n",
       "      <td>2021-05-16</td>\n",
       "      <td>2022-10-30 11:52:10.994033</td>\n",
       "    </tr>\n",
       "  </tbody>\n",
       "</table>\n",
       "</div>"
      ],
      "text/plain": [
       "  contractnum     source    medium  \\\n",
       "0    37224908  yandex.ru  referral   \n",
       "1    29477110     google   organic   \n",
       "2    44020580    Admitad       cpa   \n",
       "3    44020596    Admitad       cpa   \n",
       "4    44020610    Admitad       cpa   \n",
       "\n",
       "                                            campaign  \\\n",
       "0                                          (not set)   \n",
       "1                                          (not set)   \n",
       "2  bank_cards.debit.sberkarta_god_person_20210100...   \n",
       "3  bank_cards.debit.sberkarta_god_person_20210100...   \n",
       "4  bank_cards.debit.sberkarta_god_person_20210100...   \n",
       "\n",
       "                                            pagePath       date  \\\n",
       "0        /ru/person/bank_cards/debit/sberkarta_young 2021-05-16   \n",
       "1        /ru/person/bank_cards/debit/sberkarta_young 2021-05-16   \n",
       "2  /ru/person/bank_cards/debit/sberkarta/pension-... 2021-05-16   \n",
       "3  /ru/person/bank_cards/debit/sberkarta/pension-... 2021-05-16   \n",
       "4  /ru/person/bank_cards/debit/sberkarta/pension-... 2021-05-16   \n",
       "\n",
       "                 insert_date  \n",
       "0 2022-10-30 11:52:10.994033  \n",
       "1 2022-10-30 11:52:10.994033  \n",
       "2 2022-10-30 11:52:10.994033  \n",
       "3 2022-10-30 11:52:10.994033  \n",
       "4 2022-10-30 11:52:10.994033  "
      ]
     },
     "execution_count": 9,
     "metadata": {},
     "output_type": "execute_result"
    }
   ],
   "source": [
    "info_df.head()"
   ]
  },
  {
   "cell_type": "code",
   "execution_count": 10,
   "id": "70bf624a",
   "metadata": {},
   "outputs": [],
   "source": [
    "# по заданию не тробуется, но также можно значения полей (not set) и (none) привести к формату N/A,\n",
    "# а также pagePath дополнить протоколом, чтобы сразу хранилась рабочая ссылка."
   ]
  },
  {
   "cell_type": "markdown",
   "id": "971bb3de",
   "metadata": {},
   "source": [
    "# 2) "
   ]
  },
  {
   "cell_type": "code",
   "execution_count": 11,
   "id": "7bc9526b",
   "metadata": {},
   "outputs": [],
   "source": [
    "info_df.to_csv('data_for_test_answer.txt', sep=';', index=False)"
   ]
  },
  {
   "cell_type": "markdown",
   "id": "b39138dd",
   "metadata": {},
   "source": [
    "# 3)"
   ]
  },
  {
   "cell_type": "code",
   "execution_count": 12,
   "id": "d2096298",
   "metadata": {},
   "outputs": [],
   "source": [
    "# конкретно с такой задачей я не сталкивался, но была схожая по смыслу. \n",
    "# была цель логировать файлы в папке, чтобы можно было сразу определять последний актуальный документ\n",
    "# я решал данную задачу следующим образом:"
   ]
  },
  {
   "cell_type": "code",
   "execution_count": 13,
   "id": "4f18b352",
   "metadata": {},
   "outputs": [
    {
     "data": {
      "text/plain": [
       "'data_for_test_2022-10-30.csv'"
      ]
     },
     "execution_count": 13,
     "metadata": {},
     "output_type": "execute_result"
    }
   ],
   "source": [
    "today_date = datetime.today().strftime('%Y-%m-%d')\n",
    "file_name = 'data_for_test_{}.csv'\n",
    "file_name.format(today_date)"
   ]
  },
  {
   "cell_type": "code",
   "execution_count": 14,
   "id": "74c5598d",
   "metadata": {},
   "outputs": [],
   "source": [
    "# то есть записывал в название файта текущую дату с дальнейшим его сохранением,\n",
    "# который всегда при сортироке оказывалась на первом месте\n",
    "# если предполагается работа с файлом несколько раз в день, можно добавить точное время"
   ]
  },
  {
   "cell_type": "code",
   "execution_count": null,
   "id": "a36ec7dc",
   "metadata": {},
   "outputs": [],
   "source": [
    "# но погуглив, \"how to get last updated file in folder python\", оказывается есть более адаптированный подход\n",
    "# для решения подобной задачи с использованием библиотек glob и os\n",
    "\n",
    "import glob\n",
    "import os\n",
    "\n",
    "list_of_files = glob.glob('/path/to/folder/*') # * means all if need specific format then *.csv\n",
    "latest_file = max(list_of_files, key=os.path.getctime)\n",
    "print(latest_file)\n",
    "\n",
    "# поэтому прикладываю этот код, как базовое решение для данной задачи\n"
   ]
  },
  {
   "cell_type": "code",
   "execution_count": null,
   "id": "23057299",
   "metadata": {},
   "outputs": [],
   "source": []
  }
 ],
 "metadata": {
  "kernelspec": {
   "display_name": "Python 3 (ipykernel)",
   "language": "python",
   "name": "python3"
  },
  "language_info": {
   "codemirror_mode": {
    "name": "ipython",
    "version": 3
   },
   "file_extension": ".py",
   "mimetype": "text/x-python",
   "name": "python",
   "nbconvert_exporter": "python",
   "pygments_lexer": "ipython3",
   "version": "3.9.7"
  }
 },
 "nbformat": 4,
 "nbformat_minor": 5
}
